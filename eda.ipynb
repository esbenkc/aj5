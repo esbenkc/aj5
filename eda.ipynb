{
 "cells": [
  {
   "attachments": {},
   "cell_type": "markdown",
   "metadata": {},
   "source": [
    "# Exploratory Alignment Analysis\n",
    "\n",
    "Ideas\n",
    "* Make a reinforcement learning betting machine to bet on the outputs which a human will find nice\n",
    "* Make a prompt injection engine\n",
    "* Make an AI chatbot moderation game where players\n",
    "* "
   ]
  },
  {
   "cell_type": "code",
   "execution_count": null,
   "metadata": {},
   "outputs": [],
   "source": [
    "board = \"\"\"\n",
    "♜♞♝♛♚♝♞♜\n",
    "♟♟♟ ♟ ♟ ♟ ♟\n",
    "· · · · · · · \n",
    "· · ♙ · · · · \n",
    "· ·· ♙··· \n",
    "······· \n",
    "♙ ♙ ♙ ♙ ♙ ♙ \n",
    "♖ ♘ ♗ ♕ ♔ ♗ ♘ ♖\n",
    "\"\"\"\n",
    "\n",
    "# Replace all pawns with queens\n",
    "for row in range(8):\n",
    "    for col in range(8):\n",
    "        if board[row][col] == 'p':\n",
    "            board[row][col] = 'q'\n",
    "            \n",
    "# Make the board 16x16 \n",
    "board = [[0 for x in range(16)] for y in range(16)] "
   ]
  }
 ],
 "metadata": {
  "kernelspec": {
   "display_name": "Python 3",
   "language": "python",
   "name": "python3"
  },
  "language_info": {
   "name": "python",
   "version": "3.10.5"
  },
  "orig_nbformat": 4,
  "vscode": {
   "interpreter": {
    "hash": "aee8b7b246df8f9039afb4144a1f6fd8d2ca17a180786b69acc140d282b71a49"
   }
  }
 },
 "nbformat": 4,
 "nbformat_minor": 2
}
